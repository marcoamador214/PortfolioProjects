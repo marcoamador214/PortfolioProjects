{
 "cells": [
  {
   "cell_type": "code",
   "execution_count": 31,
   "id": "42cdc2b6",
   "metadata": {},
   "outputs": [],
   "source": [
    "import pandas as pd\n",
    "GOLD_PATH = './Medallion_Architecture/gold/'"
   ]
  },
  {
   "cell_type": "code",
   "execution_count": 32,
   "id": "f515c251",
   "metadata": {},
   "outputs": [],
   "source": [
    "df = pd.read_parquet('./Medallion_Architecture/silver/Silver.parquet')"
   ]
  },
  {
   "cell_type": "code",
   "execution_count": 33,
   "id": "5cd5b391",
   "metadata": {},
   "outputs": [
    {
     "data": {
      "text/html": [
       "<div>\n",
       "<style scoped>\n",
       "    .dataframe tbody tr th:only-of-type {\n",
       "        vertical-align: middle;\n",
       "    }\n",
       "\n",
       "    .dataframe tbody tr th {\n",
       "        vertical-align: top;\n",
       "    }\n",
       "\n",
       "    .dataframe thead th {\n",
       "        text-align: right;\n",
       "    }\n",
       "</style>\n",
       "<table border=\"1\" class=\"dataframe\">\n",
       "  <thead>\n",
       "    <tr style=\"text-align: right;\">\n",
       "      <th></th>\n",
       "      <th>Player Name</th>\n",
       "      <th>Team</th>\n",
       "      <th>World</th>\n",
       "      <th>Vehicle Type</th>\n",
       "      <th>Companion</th>\n",
       "      <th>Kart Racing Rank</th>\n",
       "      <th>Platforming Rank</th>\n",
       "      <th>Boss Battle Rank</th>\n",
       "      <th>Power-Ups Used</th>\n",
       "      <th>Kart Role</th>\n",
       "      <th>Team Points</th>\n",
       "      <th>Lives Lost</th>\n",
       "      <th>Participation in Battle Mode</th>\n",
       "      <th>Mushroom Cup Participation</th>\n",
       "      <th>Power-Ups Owned</th>\n",
       "      <th>Coins Spent in Toad Town</th>\n",
       "      <th>Levels Completed</th>\n",
       "      <th>Times Hit by Enemies</th>\n",
       "      <th>Primary Game</th>\n",
       "      <th>loadDateTimeStamp</th>\n",
       "    </tr>\n",
       "  </thead>\n",
       "  <tbody>\n",
       "    <tr>\n",
       "      <th>0</th>\n",
       "      <td>Yoshi</td>\n",
       "      <td>Toad Brigade</td>\n",
       "      <td>Yoshi's Island</td>\n",
       "      <td>Comet Bike</td>\n",
       "      <td>Polterpup</td>\n",
       "      <td>A</td>\n",
       "      <td>A</td>\n",
       "      <td>A</td>\n",
       "      <td>12</td>\n",
       "      <td>Drifter</td>\n",
       "      <td>-34</td>\n",
       "      <td>0</td>\n",
       "      <td>True</td>\n",
       "      <td>True</td>\n",
       "      <td>1-Up Mushroom</td>\n",
       "      <td>64</td>\n",
       "      <td>26</td>\n",
       "      <td>4</td>\n",
       "      <td>Mario Tennis Aces</td>\n",
       "      <td>2025-10-27 10:50:47.281938</td>\n",
       "    </tr>\n",
       "    <tr>\n",
       "      <th>1</th>\n",
       "      <td>Peach</td>\n",
       "      <td>Green Caps</td>\n",
       "      <td>Donut Plains</td>\n",
       "      <td>Circuit Special</td>\n",
       "      <td>Koopa Troopa</td>\n",
       "      <td>C</td>\n",
       "      <td>A</td>\n",
       "      <td>B</td>\n",
       "      <td>16</td>\n",
       "      <td>Drifter</td>\n",
       "      <td>149</td>\n",
       "      <td>4</td>\n",
       "      <td>True</td>\n",
       "      <td>True</td>\n",
       "      <td>Red Shell, Super Star</td>\n",
       "      <td>335</td>\n",
       "      <td>40</td>\n",
       "      <td>5</td>\n",
       "      <td>Mario Tennis Aces</td>\n",
       "      <td>2025-10-27 10:50:47.281938</td>\n",
       "    </tr>\n",
       "    <tr>\n",
       "      <th>2</th>\n",
       "      <td>Waluigi</td>\n",
       "      <td>Unknown Team</td>\n",
       "      <td>Yoshi's Island</td>\n",
       "      <td>Biddybuggy</td>\n",
       "      <td>Goomba</td>\n",
       "      <td>D</td>\n",
       "      <td>A</td>\n",
       "      <td>C</td>\n",
       "      <td>26</td>\n",
       "      <td>Blocker</td>\n",
       "      <td>174</td>\n",
       "      <td>1</td>\n",
       "      <td>True</td>\n",
       "      <td>True</td>\n",
       "      <td>Green Shell</td>\n",
       "      <td>182</td>\n",
       "      <td>57</td>\n",
       "      <td>5</td>\n",
       "      <td>Mario Kart 8 Deluxe</td>\n",
       "      <td>2025-10-27 10:50:47.281938</td>\n",
       "    </tr>\n",
       "    <tr>\n",
       "      <th>3</th>\n",
       "      <td>Yoshi</td>\n",
       "      <td>Toad Brigade</td>\n",
       "      <td>Star World</td>\n",
       "      <td>Pipe Frame</td>\n",
       "      <td>Goomba</td>\n",
       "      <td>C</td>\n",
       "      <td>D</td>\n",
       "      <td>A</td>\n",
       "      <td>23</td>\n",
       "      <td>Drifter</td>\n",
       "      <td>-1</td>\n",
       "      <td>5</td>\n",
       "      <td>True</td>\n",
       "      <td>True</td>\n",
       "      <td>1-Up Mushroom</td>\n",
       "      <td>333</td>\n",
       "      <td>84</td>\n",
       "      <td>6</td>\n",
       "      <td>Super Mario Bros.</td>\n",
       "      <td>2025-10-27 10:50:47.281938</td>\n",
       "    </tr>\n",
       "    <tr>\n",
       "      <th>4</th>\n",
       "      <td>Bowser Jr.</td>\n",
       "      <td>Koopa Clan</td>\n",
       "      <td>Mushroom Kingdom</td>\n",
       "      <td>Pipe Frame</td>\n",
       "      <td>Toad</td>\n",
       "      <td>C</td>\n",
       "      <td>C</td>\n",
       "      <td>B</td>\n",
       "      <td>10</td>\n",
       "      <td>Blocker</td>\n",
       "      <td>28</td>\n",
       "      <td>2</td>\n",
       "      <td>True</td>\n",
       "      <td>True</td>\n",
       "      <td>Red Shell, Banana Peel, Fire Flower</td>\n",
       "      <td>461</td>\n",
       "      <td>55</td>\n",
       "      <td>7</td>\n",
       "      <td>Super Mario World</td>\n",
       "      <td>2025-10-27 10:50:47.281938</td>\n",
       "    </tr>\n",
       "  </tbody>\n",
       "</table>\n",
       "</div>"
      ],
      "text/plain": [
       "  Player Name          Team             World     Vehicle Type     Companion  \\\n",
       "0       Yoshi  Toad Brigade    Yoshi's Island       Comet Bike     Polterpup   \n",
       "1       Peach    Green Caps      Donut Plains  Circuit Special  Koopa Troopa   \n",
       "2     Waluigi  Unknown Team    Yoshi's Island       Biddybuggy        Goomba   \n",
       "3       Yoshi  Toad Brigade        Star World       Pipe Frame        Goomba   \n",
       "4  Bowser Jr.    Koopa Clan  Mushroom Kingdom       Pipe Frame          Toad   \n",
       "\n",
       "  Kart Racing Rank Platforming Rank Boss Battle Rank  Power-Ups Used  \\\n",
       "0                A                A                A              12   \n",
       "1                C                A                B              16   \n",
       "2                D                A                C              26   \n",
       "3                C                D                A              23   \n",
       "4                C                C                B              10   \n",
       "\n",
       "  Kart Role  Team Points  Lives Lost  Participation in Battle Mode  \\\n",
       "0   Drifter          -34           0                          True   \n",
       "1   Drifter          149           4                          True   \n",
       "2   Blocker          174           1                          True   \n",
       "3   Drifter           -1           5                          True   \n",
       "4   Blocker           28           2                          True   \n",
       "\n",
       "   Mushroom Cup Participation                      Power-Ups Owned  \\\n",
       "0                        True                        1-Up Mushroom   \n",
       "1                        True                Red Shell, Super Star   \n",
       "2                        True                          Green Shell   \n",
       "3                        True                        1-Up Mushroom   \n",
       "4                        True  Red Shell, Banana Peel, Fire Flower   \n",
       "\n",
       "   Coins Spent in Toad Town  Levels Completed  Times Hit by Enemies  \\\n",
       "0                        64                26                     4   \n",
       "1                       335                40                     5   \n",
       "2                       182                57                     5   \n",
       "3                       333                84                     6   \n",
       "4                       461                55                     7   \n",
       "\n",
       "          Primary Game          loadDateTimeStamp  \n",
       "0    Mario Tennis Aces 2025-10-27 10:50:47.281938  \n",
       "1    Mario Tennis Aces 2025-10-27 10:50:47.281938  \n",
       "2  Mario Kart 8 Deluxe 2025-10-27 10:50:47.281938  \n",
       "3    Super Mario Bros. 2025-10-27 10:50:47.281938  \n",
       "4    Super Mario World 2025-10-27 10:50:47.281938  "
      ]
     },
     "execution_count": 33,
     "metadata": {},
     "output_type": "execute_result"
    }
   ],
   "source": [
    "df.head()"
   ]
  },
  {
   "cell_type": "code",
   "execution_count": 34,
   "id": "8143245e",
   "metadata": {},
   "outputs": [
    {
     "name": "stdout",
     "output_type": "stream",
     "text": [
      "<class 'pandas.core.frame.DataFrame'>\n",
      "RangeIndex: 48000 entries, 0 to 47999\n",
      "Data columns (total 20 columns):\n",
      " #   Column                        Non-Null Count  Dtype         \n",
      "---  ------                        --------------  -----         \n",
      " 0   Player Name                   48000 non-null  string        \n",
      " 1   Team                          48000 non-null  object        \n",
      " 2   World                         48000 non-null  object        \n",
      " 3   Vehicle Type                  48000 non-null  string        \n",
      " 4   Companion                     48000 non-null  object        \n",
      " 5   Kart Racing Rank              48000 non-null  string        \n",
      " 6   Platforming Rank              48000 non-null  string        \n",
      " 7   Boss Battle Rank              48000 non-null  string        \n",
      " 8   Power-Ups Used                48000 non-null  int32         \n",
      " 9   Kart Role                     48000 non-null  string        \n",
      " 10  Team Points                   48000 non-null  int32         \n",
      " 11  Lives Lost                    48000 non-null  int32         \n",
      " 12  Participation in Battle Mode  48000 non-null  bool          \n",
      " 13  Mushroom Cup Participation    48000 non-null  bool          \n",
      " 14  Power-Ups Owned               48000 non-null  string        \n",
      " 15  Coins Spent in Toad Town      48000 non-null  int32         \n",
      " 16  Levels Completed              48000 non-null  int32         \n",
      " 17  Times Hit by Enemies          48000 non-null  int32         \n",
      " 18  Primary Game                  48000 non-null  string        \n",
      " 19  loadDateTimeStamp             48000 non-null  datetime64[ns]\n",
      "dtypes: bool(2), datetime64[ns](1), int32(6), object(3), string(8)\n",
      "memory usage: 5.6+ MB\n"
     ]
    }
   ],
   "source": [
    "df.info()"
   ]
  },
  {
   "cell_type": "code",
   "execution_count": 35,
   "id": "e7fd3c1f",
   "metadata": {},
   "outputs": [],
   "source": [
    "# Recast string columns which were downgraded to object type by Pandas\n",
    "recast_string_columns = ['Team', 'World', 'Companion']\n",
    "\n",
    "df[recast_string_columns] = df[recast_string_columns].astype('string')"
   ]
  },
  {
   "cell_type": "code",
   "execution_count": 36,
   "id": "9f20e7b2",
   "metadata": {},
   "outputs": [
    {
     "name": "stdout",
     "output_type": "stream",
     "text": [
      "<class 'pandas.core.frame.DataFrame'>\n",
      "RangeIndex: 48000 entries, 0 to 47999\n",
      "Data columns (total 20 columns):\n",
      " #   Column                        Non-Null Count  Dtype         \n",
      "---  ------                        --------------  -----         \n",
      " 0   Player Name                   48000 non-null  string        \n",
      " 1   Team                          48000 non-null  string        \n",
      " 2   World                         48000 non-null  string        \n",
      " 3   Vehicle Type                  48000 non-null  string        \n",
      " 4   Companion                     48000 non-null  string        \n",
      " 5   Kart Racing Rank              48000 non-null  string        \n",
      " 6   Platforming Rank              48000 non-null  string        \n",
      " 7   Boss Battle Rank              48000 non-null  string        \n",
      " 8   Power-Ups Used                48000 non-null  int32         \n",
      " 9   Kart Role                     48000 non-null  string        \n",
      " 10  Team Points                   48000 non-null  int32         \n",
      " 11  Lives Lost                    48000 non-null  int32         \n",
      " 12  Participation in Battle Mode  48000 non-null  bool          \n",
      " 13  Mushroom Cup Participation    48000 non-null  bool          \n",
      " 14  Power-Ups Owned               48000 non-null  string        \n",
      " 15  Coins Spent in Toad Town      48000 non-null  int32         \n",
      " 16  Levels Completed              48000 non-null  int32         \n",
      " 17  Times Hit by Enemies          48000 non-null  int32         \n",
      " 18  Primary Game                  48000 non-null  string        \n",
      " 19  loadDateTimeStamp             48000 non-null  datetime64[ns]\n",
      "dtypes: bool(2), datetime64[ns](1), int32(6), string(11)\n",
      "memory usage: 5.6 MB\n"
     ]
    }
   ],
   "source": [
    "df.info()"
   ]
  },
  {
   "cell_type": "code",
   "execution_count": 37,
   "id": "d2144238",
   "metadata": {},
   "outputs": [
    {
     "name": "stdout",
     "output_type": "stream",
     "text": [
      "Total team points, average rank, and total coins spent in Toad Town by team:\n",
      "                Team  TotalTeamPoints  AverageRank  TotalCoinsSpent\n",
      "0      Dino Buddies           274062     3.000224          1363819\n",
      "1        Green Caps           283310     3.012155          1411585\n",
      "2        Koopa Clan           282558     2.987751          1375545\n",
      "3  Mushroom Royalty           284478     2.999568          1438670\n",
      "4          Red Caps           277777     2.975033          1409952\n",
      "5  Sarasaland Stars           289633     3.030422          1426623\n",
      "6      Toad Brigade           290411     3.040237          1395065\n",
      "7        Tricksters           279585     3.037143          1394614\n",
      "8      Unknown Team           138202     3.041718           741924\n"
     ]
    }
   ],
   "source": [
    "rank_mapping = {'S': 5, 'A': 4, 'B': 3, 'C': 2, 'D': 1}\n",
    "df['RankNumeric'] = df['Kart Racing Rank'].map(rank_mapping)\n",
    "\n",
    "team_info = df.groupby('Team').agg(\n",
    "    TotalTeamPoints=('Team Points', 'sum'),\n",
    "    AverageRank=('RankNumeric', 'mean'),\n",
    "    TotalCoinsSpent=('Coins Spent in Toad Town', 'sum')\n",
    ").reset_index()\n",
    "\n",
    "print(\"Total team points, average rank, and total coins spent in Toad Town by team:\\n\", team_info)\n",
    "team_info.to_parquet(f'{GOLD_PATH}gold_team_info.parquet', index=False)"
   ]
  },
  {
   "cell_type": "code",
   "execution_count": 38,
   "id": "18b8a329",
   "metadata": {},
   "outputs": [
    {
     "name": "stdout",
     "output_type": "stream",
     "text": [
      "Total team points by player, in descending order:\n",
      "        Player Name  TotalTeamPoints\n",
      "9   Unknown Player           454698\n",
      "3            Luigi           172753\n",
      "1       Bowser Jr.           170904\n",
      "0           Bowser           165782\n",
      "10         Waluigi           165295\n",
      "4            Mario           163519\n",
      "2            Daisy           163110\n",
      "6         Rosalina           162711\n",
      "7             Toad           160752\n",
      "5            Peach           159581\n",
      "11           Wario           157165\n",
      "12           Yoshi           153025\n",
      "8         Toadette           150721\n"
     ]
    }
   ],
   "source": [
    "player_team_points = df.groupby('Player Name').agg(\n",
    "    TotalTeamPoints=('Team Points', 'sum')\n",
    ").reset_index().sort_values('TotalTeamPoints', ascending=False)\n",
    "\n",
    "print(\"Total team points by player, in descending order:\\n\", player_team_points)\n",
    "player_team_points.to_parquet(f'{GOLD_PATH}gold_player_team_points.parquet', index=False)"
   ]
  },
  {
   "cell_type": "code",
   "execution_count": 39,
   "id": "af444f50",
   "metadata": {},
   "outputs": [
    {
     "name": "stdout",
     "output_type": "stream",
     "text": [
      "Total count and average # of power-ups used per player:\n",
      "        Player Name  CountGames  AvgPowerUpsUsed\n",
      "0           Bowser        3268        17.407895\n",
      "1       Bowser Jr.        3241        17.525455\n",
      "2            Daisy        3294        17.472981\n",
      "3            Luigi        3269        17.398287\n",
      "4            Mario        3181        17.196793\n",
      "5            Peach        3230        17.309598\n",
      "6         Rosalina        3234        17.754484\n",
      "7             Toad        3212        17.642590\n",
      "8         Toadette        3295        17.386343\n",
      "9   Unknown Player        9040        17.603540\n",
      "10         Waluigi        3321        17.364950\n",
      "11           Wario        3111        17.355513\n",
      "12           Yoshi        3304        17.486077\n"
     ]
    }
   ],
   "source": [
    "player_powerups = df.groupby('Player Name').agg(\n",
    "    CountGames=('Power-Ups Used', 'count'),\n",
    "    AvgPowerUpsUsed=('Power-Ups Used', 'mean')\n",
    ").reset_index()\n",
    "\n",
    "print(\"Total count and average # of power-ups used per player:\\n\", player_powerups)\n",
    "player_powerups.to_parquet(f'{GOLD_PATH}gold_player_powerups.parquet', index=False)"
   ]
  },
  {
   "cell_type": "code",
   "execution_count": 40,
   "id": "908b73e5",
   "metadata": {},
   "outputs": [
    {
     "name": "stdout",
     "output_type": "stream",
     "text": [
      "Average # of lives lost in each world, descending order:\n",
      "               World  AvgLivesLost\n",
      "0      Donut Plains      2.529310\n",
      "2  Mushroom Kingdom      2.526588\n",
      "4         Toad Town      2.512022\n",
      "5    Yoshi's Island      2.503966\n",
      "3        Star World      2.497933\n",
      "1     Koopa Kingdom      2.477140\n"
     ]
    }
   ],
   "source": [
    "world_lives_lost = df.groupby('World').agg(\n",
    "    AvgLivesLost=('Lives Lost', 'mean')\n",
    ").reset_index().sort_values('AvgLivesLost', ascending=False)\n",
    "\n",
    "print(\"Average # of lives lost in each world, descending order:\\n\", world_lives_lost)\n",
    "world_lives_lost.to_parquet(f'{GOLD_PATH}gold_lives_lost.parquet', index=False)"
   ]
  },
  {
   "cell_type": "code",
   "execution_count": 41,
   "id": "90b99ca4",
   "metadata": {},
   "outputs": [
    {
     "name": "stdout",
     "output_type": "stream",
     "text": [
      "Top player per team by team points:\n",
      "              Team     Player Name  Team Points\n",
      "9    Dino Buddies  Unknown Player        55720\n",
      "0    Dino Buddies          Bowser        21605\n",
      "3    Dino Buddies           Luigi        20234\n",
      "1    Dino Buddies      Bowser Jr.        19463\n",
      "10   Dino Buddies         Waluigi        18704\n",
      "..            ...             ...          ...\n",
      "108  Unknown Team           Mario         8985\n",
      "107  Unknown Team           Luigi         8578\n",
      "109  Unknown Team           Peach         8471\n",
      "105  Unknown Team      Bowser Jr.         8305\n",
      "115  Unknown Team           Wario         7883\n",
      "\n",
      "[117 rows x 3 columns]\n"
     ]
    }
   ],
   "source": [
    "top_player_per_team = df.groupby(['Team', 'Player Name'])['Team Points'].sum().reset_index()\n",
    "top_player_per_team = top_player_per_team.sort_values(['Team', 'Team Points'], ascending=[True, False])\n",
    "top_players = top_player_per_team.groupby('Team').first().reset_index()\n",
    "\n",
    "print(\"Top player per team by team points:\\n\", top_player_per_team)\n",
    "top_player_per_team.to_parquet(f'{GOLD_PATH}gold_top_player_per_team.parquet', index=False)"
   ]
  },
  {
   "cell_type": "code",
   "execution_count": 42,
   "id": "9c4bce0b",
   "metadata": {},
   "outputs": [
    {
     "name": "stdout",
     "output_type": "stream",
     "text": [
      "Popularity of each vehicle type:\n",
      "       Vehicle Type  Count\n",
      "0          Scooter   6916\n",
      "1    Standard Kart   6914\n",
      "2       Pipe Frame   6868\n",
      "3       Biddybuggy   6863\n",
      "4           Mach 8   6839\n",
      "5       Comet Bike   6828\n",
      "6  Circuit Special   6772\n"
     ]
    }
   ],
   "source": [
    "vehicle_popularity = df['Vehicle Type'].value_counts().reset_index()\n",
    "vehicle_popularity.columns = ['Vehicle Type', 'Count']\n",
    "\n",
    "print(\"Popularity of each vehicle type:\\n\", vehicle_popularity)\n",
    "vehicle_popularity.to_parquet(f'{GOLD_PATH}gold_vehicle_popularity.parquet', index=False)"
   ]
  },
  {
   "cell_type": "code",
   "execution_count": 43,
   "id": "f3ec50a9",
   "metadata": {},
   "outputs": [
    {
     "name": "stdout",
     "output_type": "stream",
     "text": [
      "Players at highest risk - total lives lost:\n",
      "        Player Name  TotalLivesLost\n",
      "9   Unknown Player           22667\n",
      "12           Yoshi            8367\n",
      "8         Toadette            8353\n",
      "10         Waluigi            8349\n",
      "2            Daisy            8214\n",
      "5            Peach            8166\n",
      "1       Bowser Jr.            8160\n",
      "3            Luigi            8103\n",
      "6         Rosalina            8092\n",
      "0           Bowser            8072\n",
      "7             Toad            8070\n",
      "4            Mario            8009\n",
      "11           Wario            7754\n"
     ]
    }
   ],
   "source": [
    "highest_risk_players = df.groupby('Player Name').agg(\n",
    "    TotalLivesLost=('Lives Lost', 'sum')\n",
    ").reset_index().sort_values('TotalLivesLost', ascending=False)\n",
    "\n",
    "print(\"Players at highest risk - total lives lost:\\n\", highest_risk_players)\n",
    "highest_risk_players.to_parquet(f'{GOLD_PATH}gold_highest_risk_players.parquet', index=False)"
   ]
  },
  {
   "cell_type": "code",
   "execution_count": 44,
   "id": "01460193",
   "metadata": {},
   "outputs": [
    {
     "name": "stdout",
     "output_type": "stream",
     "text": [
      "Average and total # of levels completed in each world:\n",
      "               World  TotalLevelsCompleted  AvgLevelsCompleted\n",
      "0      Donut Plains                507269           62.734232\n",
      "1     Koopa Kingdom                503194           62.687679\n",
      "2  Mushroom Kingdom                491277           61.904864\n",
      "3        Star World                496809           62.248966\n",
      "4         Toad Town                501699           62.501433\n",
      "5    Yoshi's Island                497014           62.572580\n"
     ]
    }
   ],
   "source": [
    "levels_per_world = df.groupby('World').agg(\n",
    "    TotalLevelsCompleted=('Levels Completed', 'sum'),\n",
    "    AvgLevelsCompleted=('Levels Completed', 'mean')\n",
    ").reset_index()\n",
    "\n",
    "print(\"Average and total # of levels completed in each world:\\n\", levels_per_world)\n",
    "levels_per_world.to_parquet(f'{GOLD_PATH}gold_levels_per_world.parquet', index=False)"
   ]
  },
  {
   "cell_type": "code",
   "execution_count": 45,
   "id": "3b6f5b86",
   "metadata": {},
   "outputs": [
    {
     "name": "stdout",
     "output_type": "stream",
     "text": [
      "Total and average times each team was hit by enemies:\n",
      "                Team  TotalTimesHit  AvgTimesHit\n",
      "0      Dino Buddies          27417     4.977669\n",
      "1        Green Caps          27943     4.967644\n",
      "2        Koopa Clan          28023     5.037390\n",
      "3  Mushroom Royalty          28368     4.966387\n",
      "4          Red Caps          27914     4.954562\n",
      "5  Sarasaland Stars          28708     5.031195\n",
      "6      Toad Brigade          28246     4.959789\n",
      "7        Tricksters          27619     4.934608\n",
      "8      Unknown Team          14965     5.055743\n"
     ]
    }
   ],
   "source": [
    "hit_by_enemies = df.groupby('Team').agg(\n",
    "    TotalTimesHit=('Times Hit by Enemies', 'sum'),\n",
    "    AvgTimesHit=('Times Hit by Enemies', 'mean')\n",
    ").reset_index()\n",
    "\n",
    "print(\"Total and average times each team was hit by enemies:\\n\", hit_by_enemies)\n",
    "hit_by_enemies.to_parquet(f'{GOLD_PATH}gold_hit_by_enemies.parquet', index=False)"
   ]
  },
  {
   "cell_type": "code",
   "execution_count": 46,
   "id": "576e3cbe",
   "metadata": {},
   "outputs": [
    {
     "name": "stdout",
     "output_type": "stream",
     "text": [
      "Total coins spent in Toad Town by each team:\n",
      "                Team  TotalCoinsSpent\n",
      "0      Dino Buddies          1363819\n",
      "1        Green Caps          1411585\n",
      "2        Koopa Clan          1375545\n",
      "3  Mushroom Royalty          1438670\n",
      "4          Red Caps          1409952\n",
      "5  Sarasaland Stars          1426623\n",
      "6      Toad Brigade          1395065\n",
      "7        Tricksters          1394614\n",
      "8      Unknown Team           741924\n"
     ]
    }
   ],
   "source": [
    "total_coins_spent = df.groupby('Team').agg(\n",
    "    TotalCoinsSpent=('Coins Spent in Toad Town', 'sum')\n",
    ").reset_index()\n",
    "\n",
    "print(\"Total coins spent in Toad Town by each team:\\n\", total_coins_spent)\n",
    "total_coins_spent.to_parquet(f'{GOLD_PATH}gold_total_coins_spent.parquet', index=False)"
   ]
  }
 ],
 "metadata": {
  "kernelspec": {
   "display_name": "base",
   "language": "python",
   "name": "python3"
  },
  "language_info": {
   "codemirror_mode": {
    "name": "ipython",
    "version": 3
   },
   "file_extension": ".py",
   "mimetype": "text/x-python",
   "name": "python",
   "nbconvert_exporter": "python",
   "pygments_lexer": "ipython3",
   "version": "3.13.5"
  }
 },
 "nbformat": 4,
 "nbformat_minor": 5
}
